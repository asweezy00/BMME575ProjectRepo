{
 "cells": [
  {
   "cell_type": "code",
   "execution_count": null,
   "metadata": {
    "id": "sq3Xw39bWmxb"
   },
   "outputs": [],
   "source": [
    "import skimage\n",
    "import os"
   ]
  },
  {
   "cell_type": "code",
   "execution_count": null,
   "metadata": {
    "id": "vCHBn1g3DxZW"
   },
   "outputs": [],
   "source": [
    "import tensorflow as tf\n",
    "from tensorflow.keras.utils import Progbar"
   ]
  },
  {
   "cell_type": "code",
   "execution_count": null,
   "metadata": {
    "colab": {
     "base_uri": "https://localhost:8080/"
    },
    "id": "VeVrx74W_0dn",
    "outputId": "ef104e69-03a8-4963-b4c5-f4229dfa92f0"
   },
   "outputs": [],
   "source": [
    "print(tf.__version__)"
   ]
  },
  {
   "cell_type": "markdown",
   "metadata": {
    "id": "veIEWSHXdeOc"
   },
   "source": [
    "# Data Preps"
   ]
  },
  {
   "cell_type": "code",
   "execution_count": null,
   "metadata": {
    "id": "5fTdjj_7UgI-"
   },
   "outputs": [],
   "source": [
    "import logging\n",
    "import time\n",
    "from tqdm.notebook import tqdm"
   ]
  },
  {
   "cell_type": "code",
   "execution_count": null,
   "metadata": {
    "colab": {
     "base_uri": "https://localhost:8080/"
    },
    "id": "GZT-w6zaR_Fu",
    "outputId": "9b3aeffc-784b-4f95-b9fa-739530b717be"
   },
   "outputs": [],
   "source": [
    "\n",
    "User_Folder = os.path.expanduser('~')\n",
    "data_path = os.path.join(User_Folder,\"Desktop\",\"archive\")\n",
    "print(data_path)\n"
   ]
  },
  {
   "cell_type": "code",
   "execution_count": null,
   "metadata": {
    "id": "V3MRuWJ9dpJi"
   },
   "outputs": [],
   "source": [
    "import numpy as np\n",
    "import matplotlib.pyplot as plt\n",
    "from tensorflow.keras.preprocessing import image"
   ]
  },
  {
   "cell_type": "code",
   "execution_count": null,
   "metadata": {
    "id": "qjfZEKRgaQZV"
   },
   "outputs": [],
   "source": [
    "import shutil"
   ]
  },
  {
   "cell_type": "code",
   "execution_count": null,
   "metadata": {
    "id": "Hi72pseXsNtf"
   },
   "outputs": [],
   "source": [
    "os.rename(os.path.join(data_path,\"Coronahack-Chest-XRay-Dataset/Coronahack-Chest-XRay-Dataset/test\"),os.path.join(data_path,\"Coronahack-Chest-XRay-Dataset/Coronahack-Chest-XRay-Dataset/trainO\"))\n",
    "os.rename(os.path.join(data_path,\"Coronahack-Chest-XRay-Dataset/Coronahack-Chest-XRay-Dataset/train\"),os.path.join(data_path,\"Coronahack-Chest-XRay-Dataset/Coronahack-Chest-XRay-Dataset/extras\"))"
   ]
  },
  {
   "cell_type": "code",
   "execution_count": null,
   "metadata": {
    "id": "ntDoD6ulggrH"
   },
   "outputs": [],
   "source": [
    "os.mkdir(os.path.join(data_path,\"Coronahack-Chest-XRay-Dataset/Coronahack-Chest-XRay-Dataset/valO\"))\n",
    "os.mkdir(os.path.join(data_path,\"Coronahack-Chest-XRay-Dataset/Coronahack-Chest-XRay-Dataset/valN\"))\n",
    "os.mkdir(os.path.join(data_path,\"Coronahack-Chest-XRay-Dataset/Coronahack-Chest-XRay-Dataset/testO\"))\n",
    "os.mkdir(os.path.join(data_path,\"Coronahack-Chest-XRay-Dataset/Coronahack-Chest-XRay-Dataset/testN\"))\n",
    "os.mkdir(os.path.join(data_path,\"Coronahack-Chest-XRay-Dataset/Coronahack-Chest-XRay-Dataset/trainN\"))"
   ]
  },
  {
   "cell_type": "markdown",
   "metadata": {
    "id": "R-ap_Tp4bX0b"
   },
   "source": [
    "624 + 250 for training 250 for validation 100 for testing"
   ]
  },
  {
   "cell_type": "code",
   "execution_count": null,
   "metadata": {
    "id": "QkfO3o4kaQzE"
   },
   "outputs": [],
   "source": [
    "source = os.path.join(data_path,\"Coronahack-Chest-XRay-Dataset/Coronahack-Chest-XRay-Dataset/extras/\")\n",
    "destVal = os.path.join(data_path,\"Coronahack-Chest-XRay-Dataset/Coronahack-Chest-XRay-Dataset/valO\")\n",
    "destTest = os.path.join(data_path,\"Coronahack-Chest-XRay-Dataset/Coronahack-Chest-XRay-Dataset/testO\")\n",
    "destTrain = os.path.join(data_path,\"Coronahack-Chest-XRay-Dataset/Coronahack-Chest-XRay-Dataset/trainO\")"
   ]
  },
  {
   "cell_type": "code",
   "execution_count": null,
   "metadata": {
    "id": "RT3iPh9EaRLU"
   },
   "outputs": [],
   "source": [
    "def moveData(src,dest,nos):\n",
    "  for no,i in enumerate(os.listdir(src)):\n",
    "    if no==nos:\n",
    "      break\n",
    "    shutil.move(src+i,dest+\"/\"+i)"
   ]
  },
  {
   "cell_type": "code",
   "execution_count": null,
   "metadata": {
    "id": "cRqX7ZpCphcT"
   },
   "outputs": [],
   "source": [
    "moveData(source,destTrain,400)\n",
    "moveData(source,destVal,300)\n",
    "moveData(source,destTest,200)"
   ]
  },
  {
   "cell_type": "code",
   "execution_count": null,
   "metadata": {
    "colab": {
     "base_uri": "https://localhost:8080/"
    },
    "id": "wSKRGMtDgJWa",
    "outputId": "63cdd4ea-fba0-45a7-af82-69106babe5fd"
   },
   "outputs": [],
   "source": [
    "print(len(os.listdir(destTrain)))\n",
    "print(len(os.listdir(destVal)))\n",
    "print(len(os.listdir(destTest)))"
   ]
  },
  {
   "cell_type": "markdown",
   "metadata": {
    "id": "6oS9P3ivuIB5"
   },
   "source": [
    "# Data Processing"
   ]
  },
  {
   "cell_type": "code",
   "execution_count": null,
   "metadata": {
    "id": "6XREUZJ_RyGG"
   },
   "outputs": [],
   "source": [
    "def processData(path,noisyDataPath):\n",
    "  imgsPaths = os.listdir(path)\n",
    "  imgsPaths = [path+\"/\"+i for i in imgsPaths]\n",
    "  spath = noisyDataPath\n",
    "  print(\"Processing...\")\n",
    "  pb_i = Progbar(len(imgsPaths))\n",
    "  for no,p in enumerate(imgsPaths):\n",
    "    img = image.load_img(p)\n",
    "    img = image.img_to_array(img)\n",
    "    img /= 255.0\n",
    "    noiseImg = skimage.util.random_noise(img,mode='gaussian', clip=True,var=0.155**2)\n",
    "    image.save_img(spath+\"img\"+str(no)+\".jpeg\",noiseImg)\n",
    "    pb_i.add(1)\n",
    "  print(\"Saving...\")\n",
    "  pb_i = Progbar(len(imgsPaths))\n",
    "  for no,src in enumerate(imgsPaths):\n",
    "    newName = path+\"/\"+\"img\"+str(no)+\".jpeg\"\n",
    "    os.rename(src,newName)\n",
    "    pb_i.add(1)"
   ]
  },
  {
   "cell_type": "code",
   "execution_count": null,
   "metadata": {
    "id": "deaSgGfXpzGq"
   },
   "outputs": [],
   "source": [
    "destTrainN = os.path.join(data_path,\"Coronahack-Chest-XRay-Dataset/Coronahack-Chest-XRay-Dataset/trainN/\")\n",
    "destValN = os.path.join(data_path,\"Coronahack-Chest-XRay-Dataset/Coronahack-Chest-XRay-Dataset/valN/\")\n",
    "destTestN = os.path.join(data_path,\"Coronahack-Chest-XRay-Dataset/Coronahack-Chest-XRay-Dataset/testN/\")"
   ]
  },
  {
   "cell_type": "code",
   "execution_count": null,
   "metadata": {
    "colab": {
     "base_uri": "https://localhost:8080/"
    },
    "id": "UpmRqhbCpq5K",
    "outputId": "aa08efc9-0b23-4126-d6d6-a27d2a18d3f8"
   },
   "outputs": [],
   "source": [
    "processData(destTrain,destTrainN)"
   ]
  },
  {
   "cell_type": "code",
   "execution_count": null,
   "metadata": {
    "colab": {
     "base_uri": "https://localhost:8080/"
    },
    "id": "_zA5KFfokO-r",
    "outputId": "34822c01-4f9b-4ece-fed8-78771fa296cf"
   },
   "outputs": [],
   "source": [
    "processData(destVal,destValN)"
   ]
  },
  {
   "cell_type": "code",
   "execution_count": null,
   "metadata": {
    "colab": {
     "base_uri": "https://localhost:8080/"
    },
    "id": "2K6P-2VSkPB6",
    "outputId": "10f17169-b2b4-424e-fb72-b001014cadba"
   },
   "outputs": [],
   "source": [
    "processData(destTest,destTestN)"
   ]
  },
  {
   "cell_type": "code",
   "execution_count": null,
   "metadata": {
    "colab": {
     "base_uri": "https://localhost:8080/",
     "height": 521
    },
    "id": "hN5L5GkrQUPC",
    "outputId": "46314453-7093-4039-9579-5340ac04dfa7"
   },
   "outputs": [],
   "source": [
    "imgN = image.load_img(os.path.join(data_path,\"Coronahack-Chest-XRay-Dataset/Coronahack-Chest-XRay-Dataset/trainN/img0.jpeg\"),target_size=(224,224))\n",
    "imgN = image.img_to_array(imgN)\n",
    "imgN /= 255.0\n",
    "\n",
    "img1 = image.load_img(destTrain+\"/\"+\"img0.jpeg\",target_size=(224,224))\n",
    "img1 = image.img_to_array(img1)\n",
    "img1 /= 255.0\n",
    "\n",
    "plt.imshow(imgN)\n",
    "plt.show()\n",
    "plt.imshow(img1)\n",
    "plt.show()"
   ]
  },
  {
   "cell_type": "code",
   "execution_count": null,
   "metadata": {
    "colab": {
     "base_uri": "https://localhost:8080/"
    },
    "id": "G4NvRldCZt8c",
    "outputId": "0d31f84f-0691-4219-d255-1c552ba82cdc"
   },
   "outputs": [],
   "source": [
    "img1.shape"
   ]
  },
  {
   "cell_type": "code",
   "execution_count": null,
   "metadata": {
    "colab": {
     "base_uri": "https://localhost:8080/"
    },
    "id": "cpiRSd9ZalXk",
    "outputId": "99fc73b0-f44b-4843-f40d-c234af296f72"
   },
   "outputs": [],
   "source": [
    "imgN.shape"
   ]
  },
  {
   "cell_type": "code",
   "execution_count": null,
   "metadata": {
    "id": "hEvhIP2KScD3"
   },
   "outputs": [],
   "source": [
    "def datagen(nPath, oPath, batchSize):\n",
    "  noisy = []\n",
    "  original = []\n",
    "  i=0\n",
    "  while(i!=len(nPath)):\n",
    "    for iN in range(batchSize):\n",
    "      if (i+iN)>=len(nPath):\n",
    "        i = 2*len(nPath)\n",
    "        break\n",
    "      imgN = image.load_img(nPath[i+iN],target_size=(224,224))\n",
    "      imgN = image.img_to_array(imgN)\n",
    "      imgN /= 255.0\n",
    "      noisy.append(imgN)\n",
    "      imgO = image.load_img(oPath[i+iN],target_size=(224,224))\n",
    "      imgO = image.img_to_array(imgO)\n",
    "      imgO /= 255.0\n",
    "      original.append(imgO)\n",
    "\n",
    "    if i>=len(nPath):\n",
    "      break\n",
    "\n",
    "    yield (np.array(noisy),np.array(original))\n",
    "    noisy = []\n",
    "    original = []\n",
    "    i += batchSize"
   ]
  },
  {
   "cell_type": "code",
   "execution_count": null,
   "metadata": {
    "id": "FJcda5tiHIHq"
   },
   "outputs": [],
   "source": [
    "trainNoisy = os.listdir(os.path.join(data_path,\"Coronahack-Chest-XRay-Dataset/Coronahack-Chest-XRay-Dataset/trainN\"))\n",
    "trainNoisy = [os.path.join(data_path,\"Coronahack-Chest-XRay-Dataset/Coronahack-Chest-XRay-Dataset/trainN/\")+i for i in trainNoisy]\n",
    "\n",
    "trainOriginal = os.listdir(os.path.join(data_path,\"Coronahack-Chest-XRay-Dataset/Coronahack-Chest-XRay-Dataset/trainO\"))\n",
    "trainOriginal = [os.path.join(data_path,\"Coronahack-Chest-XRay-Dataset/Coronahack-Chest-XRay-Dataset/trainO/\")+i for i in trainOriginal]"
   ]
  },
  {
   "cell_type": "code",
   "execution_count": null,
   "metadata": {
    "colab": {
     "base_uri": "https://localhost:8080/"
    },
    "id": "gVxoIapLbtI-",
    "outputId": "9f1abc62-74f9-455c-93c9-d72df6e4ba9f"
   },
   "outputs": [],
   "source": [
    "print(trainNoisy)\n",
    "print(trainOriginal)"
   ]
  },
  {
   "cell_type": "code",
   "execution_count": null,
   "metadata": {
    "colab": {
     "base_uri": "https://localhost:8080/"
    },
    "id": "0afGn4uZmAmI",
    "outputId": "660b3679-6c54-4c41-e7a3-8972c9e87ad9"
   },
   "outputs": [],
   "source": [
    "print(len(trainNoisy))\n",
    "print(len(trainOriginal))"
   ]
  },
  {
   "cell_type": "code",
   "execution_count": null,
   "metadata": {
    "id": "OzFh7Xx49VBd"
   },
   "outputs": [],
   "source": [
    "valNoisy = os.listdir(os.path.join(data_path,(\"Coronahack-Chest-XRay-Dataset/Coronahack-Chest-XRay-Dataset/valN\")))\n",
    "valNoisy = [os.path.join(data_path,\"Coronahack-Chest-XRay-Dataset/Coronahack-Chest-XRay-Dataset/valN/\")+i for i in valNoisy]\n",
    "\n",
    "valOriginal = os.listdir(os.path.join(data_path,\"Coronahack-Chest-XRay-Dataset/Coronahack-Chest-XRay-Dataset/valO\"))\n",
    "valOriginal = [os.path.join(data_path,\"Coronahack-Chest-XRay-Dataset/Coronahack-Chest-XRay-Dataset/valO/\")+i for i in valOriginal]"
   ]
  },
  {
   "cell_type": "code",
   "execution_count": null,
   "metadata": {
    "colab": {
     "base_uri": "https://localhost:8080/"
    },
    "id": "_Tr7XTax9VEj",
    "outputId": "19aa7fa4-97fb-48f0-d7ac-94039e9c641a"
   },
   "outputs": [],
   "source": [
    "print(valNoisy)\n",
    "print(valOriginal)"
   ]
  },
  {
   "cell_type": "code",
   "execution_count": null,
   "metadata": {
    "colab": {
     "base_uri": "https://localhost:8080/"
    },
    "id": "vF19KMxP9XIH",
    "outputId": "a65c8039-c404-4fe4-cc63-7b23587ee69b"
   },
   "outputs": [],
   "source": [
    "print(len(valNoisy))\n",
    "print(len(valOriginal))"
   ]
  },
  {
   "cell_type": "code",
   "execution_count": null,
   "metadata": {
    "id": "U7ULTAQGMCWH"
   },
   "outputs": [],
   "source": [
    "testNoisy = os.listdir(os.path.join(data_path,\"Coronahack-Chest-XRay-Dataset/Coronahack-Chest-XRay-Dataset/testN\"))\n",
    "testNoisy = [os.path.join(data_path,\"Coronahack-Chest-XRay-Dataset/Coronahack-Chest-XRay-Dataset/testN/\")+i for i in testNoisy]\n",
    "\n",
    "testOriginal = os.listdir(os.path.join(data_path,\"Coronahack-Chest-XRay-Dataset/Coronahack-Chest-XRay-Dataset/testO\"))\n",
    "testOriginal = [os.path.join(data_path,\"Coronahack-Chest-XRay-Dataset/Coronahack-Chest-XRay-Dataset/testO/\")+i for i in testOriginal]"
   ]
  },
  {
   "cell_type": "code",
   "execution_count": null,
   "metadata": {
    "colab": {
     "base_uri": "https://localhost:8080/"
    },
    "id": "QZTg3mEQMCZd",
    "outputId": "df368653-a642-4f11-bab4-bfe5b08fa55d"
   },
   "outputs": [],
   "source": [
    "print(testNoisy)\n",
    "print(testOriginal)"
   ]
  },
  {
   "cell_type": "code",
   "execution_count": null,
   "metadata": {
    "colab": {
     "base_uri": "https://localhost:8080/"
    },
    "id": "BITsD-npMDd3",
    "outputId": "a6aaec74-83f1-445f-8787-4a63bf4088fb"
   },
   "outputs": [],
   "source": [
    "print(len(testNoisy))\n",
    "print(len(testOriginal))"
   ]
  },
  {
   "cell_type": "code",
   "execution_count": null,
   "metadata": {
    "id": "BcZmt-kGpxaF"
   },
   "outputs": [],
   "source": [
    "trainDatagen = datagen(trainNoisy, trainOriginal, 100)"
   ]
  },
  {
   "cell_type": "code",
   "execution_count": null,
   "metadata": {
    "colab": {
     "base_uri": "https://localhost:8080/",
     "height": 1000
    },
    "id": "C5C9DoJvMDhM",
    "outputId": "ac90ff94-e78d-40ab-9d9f-8e0cbb7f619c"
   },
   "outputs": [],
   "source": [
    "x = 1\n",
    "for imgsN,imgsO in trainDatagen:\n",
    "  print(f\"Batch {x}:\")\n",
    "  plt.imshow(imgsN[0])\n",
    "  plt.show()\n",
    "  print(imgsN.shape)\n",
    "  plt.imshow(imgsO[0])\n",
    "  plt.show()\n",
    "  print(imgsO.shape)\n",
    "  x+=1"
   ]
  },
  {
   "cell_type": "code",
   "execution_count": null,
   "metadata": {
    "id": "88RC1B0g4Lz2"
   },
   "outputs": [],
   "source": [
    "imgN = image.load_img(os.path.join(data_path,\"Coronahack-Chest-XRay-Dataset/Coronahack-Chest-XRay-Dataset/testN/img0.jpeg\"),target_size=(224,224))\n",
    "imgN = image.img_to_array(imgN)\n",
    "imgN /= 255.0\n",
    "imgN = np.expand_dims(imgN,axis=0)"
   ]
  },
  {
   "cell_type": "code",
   "execution_count": null,
   "metadata": {},
   "outputs": [],
   "source": [
    "os.rename((data_path),os.path.join(User_Folder,\"Desktop\",\"Processed Images\"))"
   ]
  },
  {
   "cell_type": "code",
   "execution_count": null,
   "metadata": {},
   "outputs": [],
   "source": [
    "# DONE :)"
   ]
  }
 ],
 "metadata": {
  "accelerator": "GPU",
  "colab": {
   "collapsed_sections": [
    "IZ4-etiBE9lm"
   ],
   "name": "ImageDenoisingDeepLearning.ipynb",
   "provenance": [],
   "toc_visible": true
  },
  "kernelspec": {
   "display_name": "Python 3 (ipykernel)",
   "language": "python",
   "name": "python3"
  },
  "language_info": {
   "codemirror_mode": {
    "name": "ipython",
    "version": 3
   },
   "file_extension": ".py",
   "mimetype": "text/x-python",
   "name": "python",
   "nbconvert_exporter": "python",
   "pygments_lexer": "ipython3",
   "version": "3.10.14"
  }
 },
 "nbformat": 4,
 "nbformat_minor": 4
}
